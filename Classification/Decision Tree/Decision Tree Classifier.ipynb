{
 "cells": [
  {
   "cell_type": "code",
   "execution_count": 1,
   "metadata": {},
   "outputs": [],
   "source": [
    "from matplotlib.colors import ListedColormap\n",
    "from sklearn.metrics import confusion_matrix\n",
    "from sklearn.tree import DecisionTreeClassifier\n",
    "from sklearn.preprocessing import StandardScaler\n",
    "from sklearn.model_selection import train_test_split\n",
    "import numpy as np\n",
    "import pandas as pd\n",
    "import matplotlib.pyplot as plt\n",
    "%matplotlib qt"
   ]
  },
  {
   "cell_type": "code",
   "execution_count": 2,
   "metadata": {},
   "outputs": [],
   "source": [
    "dataset = pd.read_csv('Social_Network_Ads.csv')\n",
    "X = dataset.iloc[:, [2, 3]].values\n",
    "y = dataset.iloc[:, 4].values"
   ]
  },
  {
   "cell_type": "code",
   "execution_count": 3,
   "metadata": {},
   "outputs": [],
   "source": [
    "X_train, X_test,y_train,y_test = train_test_split(X,y,test_size = 0.25,random_state=0)\n"
   ]
  },
  {
   "cell_type": "code",
   "execution_count": 4,
   "metadata": {},
   "outputs": [],
   "source": [
    "sc_X = StandardScaler()\n",
    "X_train = sc_X.fit_transform(X_train)\n",
    "X_test = sc_X.transform(X_test)"
   ]
  },
  {
   "cell_type": "code",
   "execution_count": 7,
   "metadata": {},
   "outputs": [
    {
     "data": {
      "text/plain": [
       "DecisionTreeClassifier(ccp_alpha=0.0, class_weight=None, criterion='entropy',\n",
       "                       max_depth=None, max_features=None, max_leaf_nodes=None,\n",
       "                       min_impurity_decrease=0.0, min_impurity_split=None,\n",
       "                       min_samples_leaf=1, min_samples_split=2,\n",
       "                       min_weight_fraction_leaf=0.0, presort='deprecated',\n",
       "                       random_state=0, splitter='best')"
      ]
     },
     "execution_count": 7,
     "metadata": {},
     "output_type": "execute_result"
    }
   ],
   "source": [
    "clf = DecisionTreeClassifier(criterion = 'entropy',random_state=0)\n",
    "clf.fit(X_train, y_train)"
   ]
  },
  {
   "cell_type": "code",
   "execution_count": 9,
   "metadata": {},
   "outputs": [
    {
     "data": {
      "text/plain": [
       "array([[62,  6],\n",
       "       [ 3, 29]], dtype=int64)"
      ]
     },
     "execution_count": 9,
     "metadata": {},
     "output_type": "execute_result"
    }
   ],
   "source": [
    "y_pred = clf.predict(X_test)\n",
    "cm = confusion_matrix(y_test, y_pred)\n",
    "cm"
   ]
  },
  {
   "cell_type": "code",
   "execution_count": 11,
   "metadata": {},
   "outputs": [
    {
     "name": "stderr",
     "output_type": "stream",
     "text": [
      "'c' argument looks like a single numeric RGB or RGBA sequence, which should be avoided as value-mapping will have precedence in case its length matches with 'x' & 'y'.  Please use a 2-D array with a single row if you really want to specify the same RGB or RGBA value for all points.\n",
      "'c' argument looks like a single numeric RGB or RGBA sequence, which should be avoided as value-mapping will have precedence in case its length matches with 'x' & 'y'.  Please use a 2-D array with a single row if you really want to specify the same RGB or RGBA value for all points.\n"
     ]
    }
   ],
   "source": [
    "X_set, y_set = X_train, y_train\n",
    "X1, X2 = np.meshgrid(np.arange(start=X_set[:, 0].min()-1, stop=X_set[:, 0].max()+1, step=0.01),\n",
    "                     (np.arange(start=X_set[:, 0].min()-1, stop=X_set[:, 1].max()+1, step=0.01)))\n",
    "plt.contourf(X1, X2, clf.predict(np.array([X1.ravel(), X2.ravel()]).T).reshape(X1.shape),\n",
    "             alpha=0.75, cmap=ListedColormap(('red', 'green')))\n",
    "plt.xlim(X1.min(), X1.max())\n",
    "plt.xlim(X2.min(), X2.max())\n",
    "for i, j in enumerate(np.unique(y_set)):\n",
    "                    plt.scatter(X_set[y_set == j, 0], X_set[y_set == j, 1],\n",
    "                                c=ListedColormap(('red', 'green'))(i), label=j)\n",
    "plt.title('Decision Tree Classification(Training Set)')\n",
    "plt.xlabel('Age')\n",
    "plt.ylabel('Estimated Salary')\n",
    "plt.legend()\n",
    "plt.show()"
   ]
  },
  {
   "cell_type": "code",
   "execution_count": 13,
   "metadata": {},
   "outputs": [
    {
     "name": "stderr",
     "output_type": "stream",
     "text": [
      "'c' argument looks like a single numeric RGB or RGBA sequence, which should be avoided as value-mapping will have precedence in case its length matches with 'x' & 'y'.  Please use a 2-D array with a single row if you really want to specify the same RGB or RGBA value for all points.\n",
      "'c' argument looks like a single numeric RGB or RGBA sequence, which should be avoided as value-mapping will have precedence in case its length matches with 'x' & 'y'.  Please use a 2-D array with a single row if you really want to specify the same RGB or RGBA value for all points.\n"
     ]
    }
   ],
   "source": [
    "X_set, y_set = X_test, y_test\n",
    "X1, X2 = np.meshgrid(np.arange(start=X_set[:, 0].min()-1, stop=X_set[:, 0].max()+1, step=0.01),\n",
    "                     (np.arange(start=X_set[:, 0].min()-1, stop=X_set[:, 1].max()+1, step=0.01)))\n",
    "plt.contourf(X1, X2, clf.predict(np.array([X1.ravel(), X2.ravel()]).T).reshape(X1.shape),\n",
    "             alpha=0.75, cmap=ListedColormap(('red', 'green')))\n",
    "plt.xlim(X1.min(), X1.max())\n",
    "plt.xlim(X2.min(), X2.max())\n",
    "for i, j in enumerate(np.unique(y_set)):\n",
    "                    plt.scatter(X_set[y_set == j, 0], X_set[y_set == j, 1],\n",
    "                                c=ListedColormap(('red', 'green'))(i), label=j)\n",
    "plt.title('Decision tree Classifier(Test Set)')\n",
    "plt.xlabel('Age')\n",
    "plt.ylabel('Estimated Salary')\n",
    "plt.legend()\n",
    "plt.show()"
   ]
  },
  {
   "cell_type": "code",
   "execution_count": 15,
   "metadata": {},
   "outputs": [
    {
     "data": {
      "text/plain": [
       "[Text(246.4102564102564, 355.38461538461536, 'X[0] <= 0.631\\nentropy = 0.951\\nsamples = 300\\nvalue = [189, 111]'),\n",
       " Text(130.35897435897436, 326.95384615384614, 'X[1] <= 0.606\\nentropy = 0.693\\nsamples = 215\\nvalue = [175, 40]'),\n",
       " Text(57.230769230769226, 298.5230769230769, 'X[0] <= -0.161\\nentropy = 0.241\\nsamples = 176\\nvalue = [169, 7]'),\n",
       " Text(44.51282051282051, 270.09230769230766, 'entropy = 0.0\\nsamples = 114\\nvalue = [114, 0]'),\n",
       " Text(69.94871794871794, 270.09230769230766, 'X[1] <= -0.06\\nentropy = 0.509\\nsamples = 62\\nvalue = [55, 7]'),\n",
       " Text(57.230769230769226, 241.66153846153844, 'entropy = 0.0\\nsamples = 31\\nvalue = [31, 0]'),\n",
       " Text(82.66666666666666, 241.66153846153844, 'X[1] <= 0.403\\nentropy = 0.771\\nsamples = 31\\nvalue = [24, 7]'),\n",
       " Text(69.94871794871794, 213.2307692307692, 'X[1] <= 0.027\\nentropy = 0.663\\nsamples = 29\\nvalue = [24, 5]'),\n",
       " Text(57.230769230769226, 184.79999999999998, 'entropy = 0.0\\nsamples = 1\\nvalue = [0, 1]'),\n",
       " Text(82.66666666666666, 184.79999999999998, 'X[1] <= 0.259\\nentropy = 0.592\\nsamples = 28\\nvalue = [24, 4]'),\n",
       " Text(69.94871794871794, 156.36923076923074, 'X[1] <= 0.085\\nentropy = 0.684\\nsamples = 22\\nvalue = [18, 4]'),\n",
       " Text(25.435897435897434, 127.93846153846152, 'X[0] <= 0.136\\nentropy = 0.391\\nsamples = 13\\nvalue = [12, 1]'),\n",
       " Text(12.717948717948717, 99.50769230769231, 'entropy = 0.0\\nsamples = 6\\nvalue = [6, 0]'),\n",
       " Text(38.15384615384615, 99.50769230769231, 'X[1] <= 0.056\\nentropy = 0.592\\nsamples = 7\\nvalue = [6, 1]'),\n",
       " Text(25.435897435897434, 71.07692307692304, 'X[0] <= 0.235\\nentropy = 1.0\\nsamples = 2\\nvalue = [1, 1]'),\n",
       " Text(12.717948717948717, 42.64615384615382, 'entropy = 0.0\\nsamples = 1\\nvalue = [0, 1]'),\n",
       " Text(38.15384615384615, 42.64615384615382, 'entropy = 0.0\\nsamples = 1\\nvalue = [1, 0]'),\n",
       " Text(50.87179487179487, 71.07692307692304, 'entropy = 0.0\\nsamples = 5\\nvalue = [5, 0]'),\n",
       " Text(114.46153846153845, 127.93846153846152, 'X[1] <= 0.114\\nentropy = 0.918\\nsamples = 9\\nvalue = [6, 3]'),\n",
       " Text(89.02564102564102, 99.50769230769231, 'X[0] <= 0.235\\nentropy = 1.0\\nsamples = 2\\nvalue = [1, 1]'),\n",
       " Text(76.3076923076923, 71.07692307692304, 'entropy = 0.0\\nsamples = 1\\nvalue = [1, 0]'),\n",
       " Text(101.74358974358974, 71.07692307692304, 'entropy = 0.0\\nsamples = 1\\nvalue = [0, 1]'),\n",
       " Text(139.89743589743588, 99.50769230769231, 'X[0] <= 0.136\\nentropy = 0.863\\nsamples = 7\\nvalue = [5, 2]'),\n",
       " Text(127.17948717948717, 71.07692307692304, 'X[0] <= -0.013\\nentropy = 1.0\\nsamples = 4\\nvalue = [2, 2]'),\n",
       " Text(114.46153846153845, 42.64615384615382, 'X[1] <= 0.201\\nentropy = 0.918\\nsamples = 3\\nvalue = [2, 1]'),\n",
       " Text(101.74358974358974, 14.215384615384608, 'entropy = 0.0\\nsamples = 2\\nvalue = [2, 0]'),\n",
       " Text(127.17948717948717, 14.215384615384608, 'entropy = 0.0\\nsamples = 1\\nvalue = [0, 1]'),\n",
       " Text(139.89743589743588, 42.64615384615382, 'entropy = 0.0\\nsamples = 1\\nvalue = [0, 1]'),\n",
       " Text(152.6153846153846, 71.07692307692304, 'entropy = 0.0\\nsamples = 3\\nvalue = [3, 0]'),\n",
       " Text(95.38461538461537, 156.36923076923074, 'entropy = 0.0\\nsamples = 6\\nvalue = [6, 0]'),\n",
       " Text(95.38461538461537, 213.2307692307692, 'entropy = 0.0\\nsamples = 2\\nvalue = [0, 2]'),\n",
       " Text(203.48717948717947, 298.5230769230769, 'X[1] <= 1.853\\nentropy = 0.619\\nsamples = 39\\nvalue = [6, 33]'),\n",
       " Text(190.76923076923075, 270.09230769230766, 'X[1] <= 1.099\\nentropy = 0.779\\nsamples = 26\\nvalue = [6, 20]'),\n",
       " Text(178.05128205128204, 241.66153846153844, 'entropy = 0.0\\nsamples = 8\\nvalue = [0, 8]'),\n",
       " Text(203.48717948717947, 241.66153846153844, 'X[1] <= 1.36\\nentropy = 0.918\\nsamples = 18\\nvalue = [6, 12]'),\n",
       " Text(165.33333333333331, 213.2307692307692, 'X[0] <= -0.458\\nentropy = 0.985\\nsamples = 7\\nvalue = [4, 3]'),\n",
       " Text(152.6153846153846, 184.79999999999998, 'entropy = 0.0\\nsamples = 2\\nvalue = [2, 0]'),\n",
       " Text(178.05128205128204, 184.79999999999998, 'X[1] <= 1.244\\nentropy = 0.971\\nsamples = 5\\nvalue = [2, 3]'),\n",
       " Text(165.33333333333331, 156.36923076923074, 'X[0] <= -0.359\\nentropy = 1.0\\nsamples = 4\\nvalue = [2, 2]'),\n",
       " Text(152.6153846153846, 127.93846153846152, 'entropy = 0.0\\nsamples = 1\\nvalue = [0, 1]'),\n",
       " Text(178.05128205128204, 127.93846153846152, 'X[0] <= 0.186\\nentropy = 0.918\\nsamples = 3\\nvalue = [2, 1]'),\n",
       " Text(165.33333333333331, 99.50769230769231, 'entropy = 0.0\\nsamples = 2\\nvalue = [2, 0]'),\n",
       " Text(190.76923076923075, 99.50769230769231, 'entropy = 0.0\\nsamples = 1\\nvalue = [0, 1]'),\n",
       " Text(190.76923076923075, 156.36923076923074, 'entropy = 0.0\\nsamples = 1\\nvalue = [0, 1]'),\n",
       " Text(241.64102564102564, 213.2307692307692, 'X[1] <= 1.781\\nentropy = 0.684\\nsamples = 11\\nvalue = [2, 9]'),\n",
       " Text(228.9230769230769, 184.79999999999998, 'X[0] <= -1.102\\nentropy = 0.469\\nsamples = 10\\nvalue = [1, 9]'),\n",
       " Text(216.2051282051282, 156.36923076923074, 'entropy = 0.0\\nsamples = 1\\nvalue = [1, 0]'),\n",
       " Text(241.64102564102564, 156.36923076923074, 'entropy = 0.0\\nsamples = 9\\nvalue = [0, 9]'),\n",
       " Text(254.35897435897434, 184.79999999999998, 'entropy = 0.0\\nsamples = 1\\nvalue = [1, 0]'),\n",
       " Text(216.2051282051282, 270.09230769230766, 'entropy = 0.0\\nsamples = 13\\nvalue = [0, 13]'),\n",
       " Text(362.46153846153845, 326.95384615384614, 'X[1] <= -0.814\\nentropy = 0.645\\nsamples = 85\\nvalue = [14, 71]'),\n",
       " Text(305.2307692307692, 298.5230769230769, 'X[1] <= -1.365\\nentropy = 0.211\\nsamples = 30\\nvalue = [1, 29]'),\n",
       " Text(292.5128205128205, 270.09230769230766, 'X[0] <= 0.829\\nentropy = 0.722\\nsamples = 5\\nvalue = [1, 4]'),\n",
       " Text(279.79487179487177, 241.66153846153844, 'X[0] <= 0.73\\nentropy = 1.0\\nsamples = 2\\nvalue = [1, 1]'),\n",
       " Text(267.07692307692304, 213.2307692307692, 'entropy = 0.0\\nsamples = 1\\nvalue = [0, 1]'),\n",
       " Text(292.5128205128205, 213.2307692307692, 'entropy = 0.0\\nsamples = 1\\nvalue = [1, 0]'),\n",
       " Text(305.2307692307692, 241.66153846153844, 'entropy = 0.0\\nsamples = 3\\nvalue = [0, 3]'),\n",
       " Text(317.94871794871796, 270.09230769230766, 'entropy = 0.0\\nsamples = 25\\nvalue = [0, 25]'),\n",
       " Text(419.6923076923077, 298.5230769230769, 'X[0] <= 1.423\\nentropy = 0.789\\nsamples = 55\\nvalue = [13, 42]'),\n",
       " Text(368.8205128205128, 270.09230769230766, 'X[1] <= 0.447\\nentropy = 0.946\\nsamples = 33\\nvalue = [12, 21]'),\n",
       " Text(330.66666666666663, 241.66153846153844, 'X[0] <= 1.027\\nentropy = 0.985\\nsamples = 14\\nvalue = [8, 6]'),\n",
       " Text(317.94871794871796, 213.2307692307692, 'X[0] <= 0.829\\nentropy = 0.994\\nsamples = 11\\nvalue = [5, 6]'),\n",
       " Text(292.5128205128205, 184.79999999999998, 'X[1] <= -0.51\\nentropy = 0.918\\nsamples = 6\\nvalue = [4, 2]'),\n",
       " Text(279.79487179487177, 156.36923076923074, 'entropy = 0.0\\nsamples = 1\\nvalue = [0, 1]'),\n",
       " Text(305.2307692307692, 156.36923076923074, 'X[1] <= 0.201\\nentropy = 0.722\\nsamples = 5\\nvalue = [4, 1]'),\n",
       " Text(292.5128205128205, 127.93846153846152, 'entropy = 0.0\\nsamples = 2\\nvalue = [2, 0]'),\n",
       " Text(317.94871794871796, 127.93846153846152, 'X[0] <= 0.73\\nentropy = 0.918\\nsamples = 3\\nvalue = [2, 1]'),\n",
       " Text(305.2307692307692, 99.50769230769231, 'entropy = 0.0\\nsamples = 1\\nvalue = [1, 0]'),\n",
       " Text(330.66666666666663, 99.50769230769231, 'X[1] <= 0.317\\nentropy = 1.0\\nsamples = 2\\nvalue = [1, 1]'),\n",
       " Text(317.94871794871796, 71.07692307692304, 'entropy = 0.0\\nsamples = 1\\nvalue = [0, 1]'),\n",
       " Text(343.38461538461536, 71.07692307692304, 'entropy = 0.0\\nsamples = 1\\nvalue = [1, 0]'),\n",
       " Text(343.38461538461536, 184.79999999999998, 'X[1] <= -0.626\\nentropy = 0.722\\nsamples = 5\\nvalue = [1, 4]'),\n",
       " Text(330.66666666666663, 156.36923076923074, 'entropy = 0.0\\nsamples = 1\\nvalue = [1, 0]'),\n",
       " Text(356.1025641025641, 156.36923076923074, 'entropy = 0.0\\nsamples = 4\\nvalue = [0, 4]'),\n",
       " Text(343.38461538461536, 213.2307692307692, 'entropy = 0.0\\nsamples = 3\\nvalue = [3, 0]'),\n",
       " Text(406.97435897435895, 241.66153846153844, 'X[1] <= 0.664\\nentropy = 0.742\\nsamples = 19\\nvalue = [4, 15]'),\n",
       " Text(394.2564102564102, 213.2307692307692, 'entropy = 0.0\\nsamples = 4\\nvalue = [0, 4]'),\n",
       " Text(419.6923076923077, 213.2307692307692, 'X[1] <= 1.331\\nentropy = 0.837\\nsamples = 15\\nvalue = [4, 11]'),\n",
       " Text(394.2564102564102, 184.79999999999998, 'X[0] <= 0.829\\nentropy = 1.0\\nsamples = 4\\nvalue = [2, 2]'),\n",
       " Text(381.5384615384615, 156.36923076923074, 'entropy = 0.0\\nsamples = 1\\nvalue = [1, 0]'),\n",
       " Text(406.97435897435895, 156.36923076923074, 'X[0] <= 1.176\\nentropy = 0.918\\nsamples = 3\\nvalue = [1, 2]'),\n",
       " Text(394.2564102564102, 127.93846153846152, 'entropy = 0.0\\nsamples = 2\\nvalue = [0, 2]'),\n",
       " Text(419.6923076923077, 127.93846153846152, 'entropy = 0.0\\nsamples = 1\\nvalue = [1, 0]'),\n",
       " Text(445.1282051282051, 184.79999999999998, 'X[1] <= 1.824\\nentropy = 0.684\\nsamples = 11\\nvalue = [2, 9]'),\n",
       " Text(432.4102564102564, 156.36923076923074, 'entropy = 0.0\\nsamples = 4\\nvalue = [0, 4]'),\n",
       " Text(457.8461538461538, 156.36923076923074, 'X[1] <= 2.143\\nentropy = 0.863\\nsamples = 7\\nvalue = [2, 5]'),\n",
       " Text(445.1282051282051, 127.93846153846152, 'X[1] <= 2.027\\nentropy = 0.971\\nsamples = 5\\nvalue = [2, 3]'),\n",
       " Text(432.4102564102564, 99.50769230769231, 'X[1] <= 1.926\\nentropy = 0.811\\nsamples = 4\\nvalue = [1, 3]'),\n",
       " Text(419.6923076923077, 71.07692307692304, 'X[0] <= 1.126\\nentropy = 1.0\\nsamples = 2\\nvalue = [1, 1]'),\n",
       " Text(406.97435897435895, 42.64615384615382, 'entropy = 0.0\\nsamples = 1\\nvalue = [0, 1]'),\n",
       " Text(432.4102564102564, 42.64615384615382, 'entropy = 0.0\\nsamples = 1\\nvalue = [1, 0]'),\n",
       " Text(445.1282051282051, 71.07692307692304, 'entropy = 0.0\\nsamples = 2\\nvalue = [0, 2]'),\n",
       " Text(457.8461538461538, 99.50769230769231, 'entropy = 0.0\\nsamples = 1\\nvalue = [1, 0]'),\n",
       " Text(470.56410256410254, 127.93846153846152, 'entropy = 0.0\\nsamples = 2\\nvalue = [0, 2]'),\n",
       " Text(470.56410256410254, 270.09230769230766, 'X[1] <= -0.742\\nentropy = 0.267\\nsamples = 22\\nvalue = [1, 21]'),\n",
       " Text(457.8461538461538, 241.66153846153844, 'X[0] <= 2.117\\nentropy = 1.0\\nsamples = 2\\nvalue = [1, 1]'),\n",
       " Text(445.1282051282051, 213.2307692307692, 'entropy = 0.0\\nsamples = 1\\nvalue = [1, 0]'),\n",
       " Text(470.56410256410254, 213.2307692307692, 'entropy = 0.0\\nsamples = 1\\nvalue = [0, 1]'),\n",
       " Text(483.28205128205127, 241.66153846153844, 'entropy = 0.0\\nsamples = 20\\nvalue = [0, 20]')]"
      ]
     },
     "execution_count": 15,
     "metadata": {},
     "output_type": "execute_result"
    }
   ],
   "source": [
    "from sklearn import tree\n",
    "tree.plot_tree(clf)"
   ]
  }
 ],
 "metadata": {
  "kernelspec": {
   "display_name": "Python 3.7.6 64-bit",
   "language": "python",
   "name": "python37664bit679fb671a0874235aff8a123c336d381"
  },
  "language_info": {
   "codemirror_mode": {
    "name": "ipython",
    "version": 3
   },
   "file_extension": ".py",
   "mimetype": "text/x-python",
   "name": "python",
   "nbconvert_exporter": "python",
   "pygments_lexer": "ipython3",
   "version": "3.7.6"
  }
 },
 "nbformat": 4,
 "nbformat_minor": 4
}
